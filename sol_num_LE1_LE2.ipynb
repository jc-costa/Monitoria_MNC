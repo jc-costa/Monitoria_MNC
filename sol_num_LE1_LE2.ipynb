{
 "cells": [
  {
   "cell_type": "code",
   "execution_count": null,
   "id": "670c400d",
   "metadata": {},
   "outputs": [],
   "source": [
    "import numpy as np\n",
    "from scipy.integrate import odeint\n",
    "import matplotlib.pyplot as plt"
   ]
  },
  {
   "cell_type": "markdown",
   "id": "876231fc",
   "metadata": {},
   "source": [
    "## LE1"
   ]
  },
  {
   "cell_type": "markdown",
   "id": "59173041",
   "metadata": {},
   "source": [
    "### Q6 a)"
   ]
  },
  {
   "cell_type": "markdown",
   "id": "57463a80",
   "metadata": {},
   "source": [
    "#### Modelando a equação"
   ]
  },
  {
   "cell_type": "code",
   "execution_count": null,
   "id": "8b2421b0",
   "metadata": {},
   "outputs": [],
   "source": [
    "def q6_a(y, t):\n",
    "    dydt = (y + 4) * np.cos(t)\n",
    "    return dydt    "
   ]
  },
  {
   "cell_type": "markdown",
   "id": "7cb10691",
   "metadata": {},
   "source": [
    "#### Condição inicial"
   ]
  },
  {
   "cell_type": "code",
   "execution_count": null,
   "id": "eed6d908",
   "metadata": {},
   "outputs": [],
   "source": [
    "y0 = 0 "
   ]
  },
  {
   "cell_type": "markdown",
   "id": "6f94393f",
   "metadata": {},
   "source": [
    "#### Definindo o intervalo de tempo"
   ]
  },
  {
   "cell_type": "code",
   "execution_count": null,
   "id": "ee82e136",
   "metadata": {},
   "outputs": [],
   "source": [
    "t = np.linspace(0, 10, 100)"
   ]
  },
  {
   "cell_type": "markdown",
   "id": "6d205c68",
   "metadata": {},
   "source": [
    "#### Resolvendo a EDO numericamente"
   ]
  },
  {
   "cell_type": "code",
   "execution_count": null,
   "id": "9399d356",
   "metadata": {},
   "outputs": [],
   "source": [
    "y_num = odeint(q6_a, y0, t)"
   ]
  },
  {
   "cell_type": "markdown",
   "id": "f33a8445",
   "metadata": {},
   "source": [
    "#### Solução analítica"
   ]
  },
  {
   "cell_type": "code",
   "execution_count": null,
   "id": "aea91f12",
   "metadata": {},
   "outputs": [],
   "source": [
    "y_analitica = 4 * np.exp(np.sin(t)) - 4"
   ]
  },
  {
   "cell_type": "markdown",
   "id": "9c85e36b",
   "metadata": {},
   "source": [
    "#### Comparando as duas soluções"
   ]
  },
  {
   "cell_type": "code",
   "execution_count": null,
   "id": "bc8d27ae",
   "metadata": {},
   "outputs": [],
   "source": [
    "plt.plot(t, y_num[:,0], linewidth = 3)\n",
    "plt.plot(t, y_analitica, 'r:', linewidth = 3)\n",
    "plt.xlabel('Tempo')\n",
    "plt.ylabel('y(t)')\n",
    "plt.legend(['Solução numérica', 'Solução analítica'])"
   ]
  },
  {
   "cell_type": "markdown",
   "id": "e118505e",
   "metadata": {},
   "source": [
    "### Q6 b)"
   ]
  },
  {
   "cell_type": "markdown",
   "id": "9dd0c1be",
   "metadata": {},
   "source": [
    "#### Modelando a equação"
   ]
  },
  {
   "cell_type": "code",
   "execution_count": null,
   "id": "5b10e648",
   "metadata": {},
   "outputs": [],
   "source": [
    "def q6_b(y, t):\n",
    "    dydt = y * np.exp(t)\n",
    "    return dydt    "
   ]
  },
  {
   "cell_type": "markdown",
   "id": "770a7a48",
   "metadata": {},
   "source": [
    "#### Condição inicial"
   ]
  },
  {
   "cell_type": "code",
   "execution_count": null,
   "id": "50998870",
   "metadata": {},
   "outputs": [],
   "source": [
    "y0_2 = 1 "
   ]
  },
  {
   "cell_type": "markdown",
   "id": "20d0bc37",
   "metadata": {},
   "source": [
    "#### Definindo o intervalo de tempo"
   ]
  },
  {
   "cell_type": "code",
   "execution_count": null,
   "id": "2fc7cd82",
   "metadata": {},
   "outputs": [],
   "source": [
    "t_2 = np.linspace(0, 2)"
   ]
  },
  {
   "cell_type": "markdown",
   "id": "3a891ee5",
   "metadata": {},
   "source": [
    "#### Resolvendo a EDO numericamente"
   ]
  },
  {
   "cell_type": "code",
   "execution_count": null,
   "id": "47eb5d19",
   "metadata": {},
   "outputs": [],
   "source": [
    "y_num_2 = odeint(q6_b, y0_2, t_2)"
   ]
  },
  {
   "cell_type": "markdown",
   "id": "f4ac4456",
   "metadata": {},
   "source": [
    "#### Solução analítica"
   ]
  },
  {
   "cell_type": "code",
   "execution_count": null,
   "id": "358e7a85",
   "metadata": {},
   "outputs": [],
   "source": [
    "y_analitica_2 = np.exp(np.exp(t_2) - 1)"
   ]
  },
  {
   "cell_type": "code",
   "execution_count": null,
   "id": "a1a58d60",
   "metadata": {},
   "outputs": [],
   "source": [
    "#### Comparando as duas soluções"
   ]
  },
  {
   "cell_type": "code",
   "execution_count": null,
   "id": "3be82640",
   "metadata": {
    "scrolled": true
   },
   "outputs": [],
   "source": [
    "plt.plot(t_2, y_num_2[:,0], linewidth = 3)\n",
    "plt.plot(t_2, y_analitica_2, 'r:', linewidth = 3)\n",
    "plt.xlabel('Tempo')\n",
    "plt.ylabel('y(t)')\n",
    "plt.legend(['Solução numérica', 'Solução analítica'])"
   ]
  },
  {
   "cell_type": "markdown",
   "id": "0e1a6d2a",
   "metadata": {},
   "source": [
    "## LE2"
   ]
  },
  {
   "cell_type": "markdown",
   "id": "450def36",
   "metadata": {},
   "source": [
    "### Q10 b)"
   ]
  },
  {
   "cell_type": "markdown",
   "id": "131ce945",
   "metadata": {},
   "source": [
    "#### Modelando a equação"
   ]
  },
  {
   "cell_type": "code",
   "execution_count": null,
   "id": "b370091b",
   "metadata": {},
   "outputs": [],
   "source": [
    "def q10_b(v,t):\n",
    "    y = v[0]\n",
    "    dydt = v[1]\n",
    "    return [dydt, -y + np.cos(t)]"
   ]
  },
  {
   "cell_type": "markdown",
   "id": "d44f8b05",
   "metadata": {},
   "source": [
    "#### Condições iniciais"
   ]
  },
  {
   "cell_type": "code",
   "execution_count": null,
   "id": "a6bc7448",
   "metadata": {},
   "outputs": [],
   "source": [
    "y0_3 = [0,0]  "
   ]
  },
  {
   "cell_type": "markdown",
   "id": "26cc5bca",
   "metadata": {},
   "source": [
    "#### Definindo o intervalo de tempo"
   ]
  },
  {
   "cell_type": "code",
   "execution_count": null,
   "id": "16770677",
   "metadata": {},
   "outputs": [],
   "source": [
    "t_3 = np.linspace(0, 100, 1000)"
   ]
  },
  {
   "cell_type": "markdown",
   "id": "a8293602",
   "metadata": {},
   "source": [
    "#### Resolvendo a EDO numericamente"
   ]
  },
  {
   "cell_type": "code",
   "execution_count": null,
   "id": "b01d5444",
   "metadata": {},
   "outputs": [],
   "source": [
    "y_num_3 = odeint(q10_b, y0_3, t_3)"
   ]
  },
  {
   "cell_type": "markdown",
   "id": "5c358dcb",
   "metadata": {},
   "source": [
    "#### Solução analítica"
   ]
  },
  {
   "cell_type": "code",
   "execution_count": null,
   "id": "57c48254",
   "metadata": {},
   "outputs": [],
   "source": [
    "y_analitica_3 = 1/2 * t_3 * np.sin(t_3)"
   ]
  },
  {
   "cell_type": "markdown",
   "id": "38841136",
   "metadata": {},
   "source": [
    "#### Comparando as duas soluções"
   ]
  },
  {
   "cell_type": "code",
   "execution_count": null,
   "id": "d653d339",
   "metadata": {},
   "outputs": [],
   "source": [
    "plt.plot(t_3, y_num_3[:,0], linewidth = 3)\n",
    "plt.plot(t_3, y_analitica_3, 'r--', linewidth = 3)\n",
    "plt.xlabel('Tempo')\n",
    "plt.ylabel('y(t)')\n",
    "plt.legend(['Solução numérica', 'Solução analítica'])"
   ]
  }
 ],
 "metadata": {
  "kernelspec": {
   "display_name": "Python 3 (ipykernel)",
   "language": "python",
   "name": "python3"
  },
  "language_info": {
   "codemirror_mode": {
    "name": "ipython",
    "version": 3
   },
   "file_extension": ".py",
   "mimetype": "text/x-python",
   "name": "python",
   "nbconvert_exporter": "python",
   "pygments_lexer": "ipython3",
   "version": "3.10.5"
  }
 },
 "nbformat": 4,
 "nbformat_minor": 5
}
